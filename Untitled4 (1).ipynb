{
  "nbformat": 4,
  "nbformat_minor": 0,
  "metadata": {
    "colab": {
      "name": "Untitled4.ipynb",
      "provenance": []
    },
    "kernelspec": {
      "name": "python3",
      "display_name": "Python 3"
    },
    "language_info": {
      "name": "python"
    }
  },
  "cells": [
    {
      "cell_type": "code",
      "metadata": {
        "colab": {
          "base_uri": "https://localhost:8080/"
        },
        "id": "SfqQmdonH-Vn",
        "outputId": "566acf57-405f-403c-8ad1-c89b0542ad82"
      },
      "source": [
        "pip install mediapipe"
      ],
      "execution_count": 19,
      "outputs": [
        {
          "output_type": "stream",
          "name": "stdout",
          "text": [
            "Requirement already satisfied: mediapipe in /usr/local/lib/python3.7/dist-packages (0.8.9.1)\n",
            "Requirement already satisfied: matplotlib in /usr/local/lib/python3.7/dist-packages (from mediapipe) (3.2.2)\n",
            "Requirement already satisfied: protobuf>=3.11.4 in /usr/local/lib/python3.7/dist-packages (from mediapipe) (3.17.3)\n",
            "Requirement already satisfied: absl-py in /usr/local/lib/python3.7/dist-packages (from mediapipe) (0.12.0)\n",
            "Requirement already satisfied: attrs>=19.1.0 in /usr/local/lib/python3.7/dist-packages (from mediapipe) (21.2.0)\n",
            "Requirement already satisfied: numpy in /usr/local/lib/python3.7/dist-packages (from mediapipe) (1.19.5)\n",
            "Requirement already satisfied: opencv-contrib-python in /usr/local/lib/python3.7/dist-packages (from mediapipe) (4.1.2.30)\n",
            "Requirement already satisfied: six>=1.9 in /usr/local/lib/python3.7/dist-packages (from protobuf>=3.11.4->mediapipe) (1.15.0)\n",
            "Requirement already satisfied: kiwisolver>=1.0.1 in /usr/local/lib/python3.7/dist-packages (from matplotlib->mediapipe) (1.3.2)\n",
            "Requirement already satisfied: python-dateutil>=2.1 in /usr/local/lib/python3.7/dist-packages (from matplotlib->mediapipe) (2.8.2)\n",
            "Requirement already satisfied: pyparsing!=2.0.4,!=2.1.2,!=2.1.6,>=2.0.1 in /usr/local/lib/python3.7/dist-packages (from matplotlib->mediapipe) (3.0.6)\n",
            "Requirement already satisfied: cycler>=0.10 in /usr/local/lib/python3.7/dist-packages (from matplotlib->mediapipe) (0.11.0)\n"
          ]
        }
      ]
    },
    {
      "cell_type": "code",
      "metadata": {
        "id": "XNhIoKWKHnVo"
      },
      "source": [
        "import cv2\n",
        "import mediapipe as mp\n",
        "import pandas as pd\n",
        "mp_drawing = mp.solutions.drawing_utils\n",
        "mp_drawing_styles = mp.solutions.drawing_styles\n",
        "mp_hands = mp.solutions.hands"
      ],
      "execution_count": 20,
      "outputs": []
    },
    {
      "cell_type": "markdown",
      "metadata": {
        "id": "mfEFsY5gN1Je"
      },
      "source": [
        "# Новый раздел"
      ]
    },
    {
      "cell_type": "code",
      "metadata": {
        "id": "iM6GdfGNHnbC"
      },
      "source": [
        "def f(s,st):\n",
        "    global tic, tik1, ys, ch, tok2, activ\n",
        "    x1 = [0.0 for i in range(40)]\n",
        "    y1 = [0.0 for i in range(40)]\n",
        "    z1 = [0.0 for i in range(40)]\n",
        "    t = s.find(\"x: \")\n",
        "    count = 0\n",
        "    while (t != -1):\n",
        "        if (t):\n",
        "            s = s[t + 3:]\n",
        "            y = s.find(\"\\n\")\n",
        "            r = float(s[0:y])\n",
        "            x1[count] = r\n",
        "            t = s.find(\"y: \")\n",
        "            s = s[t + 3:]\n",
        "            y = s.find(\"\\n\")\n",
        "            r = float(s[0:y])\n",
        "            y1[count] = r\n",
        "            t = s.find(\"z: \")\n",
        "            s = s[t + 3:]\n",
        "            y = s.find(\"\\n\")\n",
        "            r = float(s[0:y])\n",
        "            t = s.find(\"x: \")\n",
        "            z1[count] = r\n",
        "            count += 1\n",
        "    count -= 1\n",
        "    if (count > 10):\n",
        "        yk = False\n",
        "        for m in (x1, y1):\n",
        "            if (m[11] > m[9] and m[15] > m[13] and m[19] > m[17] and m[7] > m[8] and m[8] < m[5]):\n",
        "                yk = True\n",
        "            if (m[11] < m[9] and m[15] < m[13] and m[19] < m[17] and m[7] < m[8] and m[5] < m[8]):\n",
        "                yk = True\n",
        "        #if ys - y1[8] / tok1 - tic1 < 1:\n",
        "            #pyautogui.moveTo(size_x * x1[8], size_y * y1[8])\n",
        "        ys = y1[8]\n",
        "        if (y1[11] < y1[16] and y1[11] < y1[20] and y1[7] < y1[16] and y1[7] < y1[20] and abs(\n",
        "                x1[7] - x1[11]) <= 0.05 and y1[8] < y1[5] and y1[12] < y1[9]):\n",
        "            # pyautogui.click(x=size_x * x1[8], y=size_y * y1[8], clicks=1, button='left')\n",
        "            return (\"left\")\n",
        "        if (x1[12] - x1[0] < 0 and abs(x1[12] - x1[0]) > abs(y1[12] - y1[0])):\n",
        "            # i = i + 1\n",
        "            # pyautogui.click(x=size_x * x1[8], y=size_y * y1[8], clicks=1, button='right')\n",
        "            return (\"right\")\n",
        "        if (x1[8] > x1[17] and y1[8] < y1[17] and yk == True):\n",
        "            ##pyautogui.typewrite(['prntscrn'])\n",
        "            return (\"prntscrn\")\n",
        "        if (y1[8] > 0.2 and y1[8] < 0.3):\n",
        "            #pyautogui.typewrite(['up'])\n",
        "            return (\"up\")\n",
        "        if (y1[8] > 0.8) and (y1[8] < 0.9):\n",
        "            #pyautogui.typewrite(['down'])\n",
        "            return (\"down\")\n",
        "        if (y1[8] < 0.2) and (y1[8] > 0.1):\n",
        "            #pyautogui.typewrite(['up', 'up', 'up'])\n",
        "            return (\"up up up\")\n",
        "        if (y1[8] > 0.9):\n",
        "            #pyautogui.typewrite(['down', 'down', 'down'])\n",
        "            return (\"down down down\")\n",
        "        if (x1[8] < 0.1):\n",
        "            # pyautogui.hotkey('ctrl', 'shift', 'tab')\n",
        "            return (\"ctrl shift tab\")\n",
        "        if (x1[8] > 0.9):\n",
        "            #pyautogui.hotkey('ctrl', 'tab')\n",
        "            return (\"ctrl tab\")"
      ],
      "execution_count": 33,
      "outputs": []
    },
    {
      "cell_type": "code",
      "metadata": {
        "id": "GqhkOXF6Hnf6"
      },
      "source": [
        "mp_drawing1 = mp.solutions.drawing_utils\n",
        "mp_pose1 = mp.solutions.pose\n",
        "\n",
        "size = 200\n",
        "mp_drawing = mp.solutions.drawing_utils\n",
        "mp_hands = mp.solutions.hands\n",
        "\n",
        "x_a = [0.0 for i in range(size)]\n",
        "y_a = [0.0 for i in range(size)]\n",
        "z_a = [0.0 for i in range(size)]\n",
        "\n",
        "timer = 0\n",
        "\n",
        "#df=pd.read_excel(\"Kniga12.xlsx\")\n",
        "#print(df)\n",
        "#print(list(df.name))\n",
        "i=0\n",
        "#For static images:"
      ],
      "execution_count": 22,
      "outputs": []
    },
    {
      "cell_type": "code",
      "metadata": {
        "id": "ayAENng7Ls4X"
      },
      "source": [
        "df=pd.DataFrame()"
      ],
      "execution_count": 23,
      "outputs": []
    },
    {
      "cell_type": "code",
      "metadata": {
        "id": "JHm-V42SOkt3"
      },
      "source": [
        "def f1():\n",
        "  with mp_hands.Hands(\n",
        "      static_image_mode=True,\n",
        "      max_num_hands=2,\n",
        "      min_detection_confidence=0.5) as hands:\n",
        "    for idx, file in enumerate(IMAGE_FILES):\n",
        "      image = cv2.flip(cv2.imread(file), 1)\n",
        "      image = cv2.flip(image, 1)\n",
        "      results = hands.process(cv2.cvtColor(image, cv2.COLOR_BGR2RGB))\n",
        "      res = str(results.multi_handedness)\n",
        "      if \"Left\" in res:\n",
        "        st='l'\n",
        "      if \"Right\" in res:\n",
        "        st='r'\n",
        "      if results.multi_hand_landmarks:\n",
        "          for hand_landmarks in results.multi_hand_landmarks:\n",
        "              s = str(hand_landmarks)\n",
        "              pos = f(s,st)\n",
        "              mp_drawing.draw_landmarks(\n",
        "                  image, hand_landmarks, mp_hands.HAND_CONNECTIONS)\n",
        "      \n",
        "      print(pos,st)"
      ],
      "execution_count": 41,
      "outputs": []
    },
    {
      "cell_type": "code",
      "metadata": {
        "id": "1NgUltLnBqY2",
        "colab": {
          "base_uri": "https://localhost:8080/"
        },
        "outputId": "91962ee6-d200-4b9d-e375-93a5f6a401b9"
      },
      "source": [
        "IMAGE_FILES =['лкм0.jpg','лкм1.jpg','лкм2.jpg','лкм3.jpg','лкм4.jpg','лкм5.jpg','лкм6.jpg','лкм7.jpg','лкм8.jpg','лкм9.jpg',]\n",
        "f1()"
      ],
      "execution_count": 42,
      "outputs": [
        {
          "output_type": "stream",
          "name": "stdout",
          "text": [
            "left r\n",
            "left r\n",
            "left r\n",
            "left r\n",
            "None r\n",
            "left r\n",
            "left r\n",
            "left r\n",
            "left r\n",
            "left r\n"
          ]
        }
      ]
    },
    {
      "cell_type": "code",
      "source": [
        "IMAGE_FILES =['пкм0.jpg','пкм1.jpg','пкм2.jpg','пкм3.jpg','пкм4.jpg','пкм5.jpg','пкм6.jpg','пкм7.jpg','пкм8.jpg','пкм9.jpg',]\n",
        "f1()"
      ],
      "metadata": {
        "colab": {
          "base_uri": "https://localhost:8080/",
          "height": 321
        },
        "id": "2uZ5wKx_EHMq",
        "outputId": "5d8a56a0-f087-4e05-e035-87b00e23781f"
      },
      "execution_count": 43,
      "outputs": [
        {
          "output_type": "stream",
          "name": "stdout",
          "text": [
            "right r\n",
            "right r\n"
          ]
        },
        {
          "output_type": "error",
          "ename": "error",
          "evalue": "ignored",
          "traceback": [
            "\u001b[0;31m---------------------------------------------------------------------------\u001b[0m",
            "\u001b[0;31merror\u001b[0m                                     Traceback (most recent call last)",
            "\u001b[0;32m<ipython-input-43-4536e4287ee4>\u001b[0m in \u001b[0;36m<module>\u001b[0;34m()\u001b[0m\n\u001b[1;32m      1\u001b[0m \u001b[0mIMAGE_FILES\u001b[0m \u001b[0;34m=\u001b[0m\u001b[0;34m[\u001b[0m\u001b[0;34m'пкм0.jpg'\u001b[0m\u001b[0;34m,\u001b[0m\u001b[0;34m'пкм1.jpg'\u001b[0m\u001b[0;34m,\u001b[0m\u001b[0;34m'пкм2.jpg'\u001b[0m\u001b[0;34m,\u001b[0m\u001b[0;34m'пкм3.jpg'\u001b[0m\u001b[0;34m,\u001b[0m\u001b[0;34m'пкм4.jpg'\u001b[0m\u001b[0;34m,\u001b[0m\u001b[0;34m'пкм5.jpg'\u001b[0m\u001b[0;34m,\u001b[0m\u001b[0;34m'пкм6.jpg'\u001b[0m\u001b[0;34m,\u001b[0m\u001b[0;34m'пкм7.jpg'\u001b[0m\u001b[0;34m,\u001b[0m\u001b[0;34m'пкм8.jpg'\u001b[0m\u001b[0;34m,\u001b[0m\u001b[0;34m'пкм9.jpg'\u001b[0m\u001b[0;34m,\u001b[0m\u001b[0;34m]\u001b[0m\u001b[0;34m\u001b[0m\u001b[0;34m\u001b[0m\u001b[0m\n\u001b[0;32m----> 2\u001b[0;31m \u001b[0mf1\u001b[0m\u001b[0;34m(\u001b[0m\u001b[0;34m)\u001b[0m\u001b[0;34m\u001b[0m\u001b[0;34m\u001b[0m\u001b[0m\n\u001b[0m",
            "\u001b[0;32m<ipython-input-41-a685c736797e>\u001b[0m in \u001b[0;36mf1\u001b[0;34m()\u001b[0m\n\u001b[1;32m      7\u001b[0m       \u001b[0mimage\u001b[0m \u001b[0;34m=\u001b[0m \u001b[0mcv2\u001b[0m\u001b[0;34m.\u001b[0m\u001b[0mflip\u001b[0m\u001b[0;34m(\u001b[0m\u001b[0mcv2\u001b[0m\u001b[0;34m.\u001b[0m\u001b[0mimread\u001b[0m\u001b[0;34m(\u001b[0m\u001b[0mfile\u001b[0m\u001b[0;34m)\u001b[0m\u001b[0;34m,\u001b[0m \u001b[0;36m1\u001b[0m\u001b[0;34m)\u001b[0m\u001b[0;34m\u001b[0m\u001b[0;34m\u001b[0m\u001b[0m\n\u001b[1;32m      8\u001b[0m       \u001b[0mimage\u001b[0m \u001b[0;34m=\u001b[0m \u001b[0mcv2\u001b[0m\u001b[0;34m.\u001b[0m\u001b[0mflip\u001b[0m\u001b[0;34m(\u001b[0m\u001b[0mimage\u001b[0m\u001b[0;34m,\u001b[0m \u001b[0;36m1\u001b[0m\u001b[0;34m)\u001b[0m\u001b[0;34m\u001b[0m\u001b[0;34m\u001b[0m\u001b[0m\n\u001b[0;32m----> 9\u001b[0;31m       \u001b[0mresults\u001b[0m \u001b[0;34m=\u001b[0m \u001b[0mhands\u001b[0m\u001b[0;34m.\u001b[0m\u001b[0mprocess\u001b[0m\u001b[0;34m(\u001b[0m\u001b[0mcv2\u001b[0m\u001b[0;34m.\u001b[0m\u001b[0mcvtColor\u001b[0m\u001b[0;34m(\u001b[0m\u001b[0mimage\u001b[0m\u001b[0;34m,\u001b[0m \u001b[0mcv2\u001b[0m\u001b[0;34m.\u001b[0m\u001b[0mCOLOR_BGR2RGB\u001b[0m\u001b[0;34m)\u001b[0m\u001b[0;34m)\u001b[0m\u001b[0;34m\u001b[0m\u001b[0;34m\u001b[0m\u001b[0m\n\u001b[0m\u001b[1;32m     10\u001b[0m       \u001b[0mres\u001b[0m \u001b[0;34m=\u001b[0m \u001b[0mstr\u001b[0m\u001b[0;34m(\u001b[0m\u001b[0mresults\u001b[0m\u001b[0;34m.\u001b[0m\u001b[0mmulti_handedness\u001b[0m\u001b[0;34m)\u001b[0m\u001b[0;34m\u001b[0m\u001b[0;34m\u001b[0m\u001b[0m\n\u001b[1;32m     11\u001b[0m       \u001b[0;32mif\u001b[0m \u001b[0;34m\"Left\"\u001b[0m \u001b[0;32min\u001b[0m \u001b[0mres\u001b[0m\u001b[0;34m:\u001b[0m\u001b[0;34m\u001b[0m\u001b[0;34m\u001b[0m\u001b[0m\n",
            "\u001b[0;31merror\u001b[0m: OpenCV(4.1.2) /io/opencv/modules/imgproc/src/color.cpp:182: error: (-215:Assertion failed) !_src.empty() in function 'cvtColor'\n"
          ]
        }
      ]
    },
    {
      "cell_type": "code",
      "source": [
        "IMAGE_FILES =['след0.jpg','след1.jpg','след2.jpg','след3.jpg','след4.jpg','след5.jpg','след6.jpg','след7.jpg','след8.jpg','след9.jpg',]\n",
        "f1()"
      ],
      "metadata": {
        "colab": {
          "base_uri": "https://localhost:8080/",
          "height": 288
        },
        "id": "VowT7aybEqsa",
        "outputId": "bee298c4-18cc-42ec-f68b-04badbcaa1b3"
      },
      "execution_count": 47,
      "outputs": [
        {
          "output_type": "error",
          "ename": "error",
          "evalue": "ignored",
          "traceback": [
            "\u001b[0;31m---------------------------------------------------------------------------\u001b[0m",
            "\u001b[0;31merror\u001b[0m                                     Traceback (most recent call last)",
            "\u001b[0;32m<ipython-input-47-3d16dbc1141b>\u001b[0m in \u001b[0;36m<module>\u001b[0;34m()\u001b[0m\n\u001b[1;32m      1\u001b[0m \u001b[0mIMAGE_FILES\u001b[0m \u001b[0;34m=\u001b[0m\u001b[0;34m[\u001b[0m\u001b[0;34m'след0.jpg'\u001b[0m\u001b[0;34m,\u001b[0m\u001b[0;34m'след1.jpg'\u001b[0m\u001b[0;34m,\u001b[0m\u001b[0;34m'след2.jpg'\u001b[0m\u001b[0;34m,\u001b[0m\u001b[0;34m'след3.jpg'\u001b[0m\u001b[0;34m,\u001b[0m\u001b[0;34m'след4.jpg'\u001b[0m\u001b[0;34m,\u001b[0m\u001b[0;34m'след5.jpg'\u001b[0m\u001b[0;34m,\u001b[0m\u001b[0;34m'след6.jpg'\u001b[0m\u001b[0;34m,\u001b[0m\u001b[0;34m'след7.jpg'\u001b[0m\u001b[0;34m,\u001b[0m\u001b[0;34m'след8.jpg'\u001b[0m\u001b[0;34m,\u001b[0m\u001b[0;34m'след9.jpg'\u001b[0m\u001b[0;34m,\u001b[0m\u001b[0;34m]\u001b[0m\u001b[0;34m\u001b[0m\u001b[0;34m\u001b[0m\u001b[0m\n\u001b[0;32m----> 2\u001b[0;31m \u001b[0mf1\u001b[0m\u001b[0;34m(\u001b[0m\u001b[0;34m)\u001b[0m\u001b[0;34m\u001b[0m\u001b[0;34m\u001b[0m\u001b[0m\n\u001b[0m",
            "\u001b[0;32m<ipython-input-41-a685c736797e>\u001b[0m in \u001b[0;36mf1\u001b[0;34m()\u001b[0m\n\u001b[1;32m      7\u001b[0m       \u001b[0mimage\u001b[0m \u001b[0;34m=\u001b[0m \u001b[0mcv2\u001b[0m\u001b[0;34m.\u001b[0m\u001b[0mflip\u001b[0m\u001b[0;34m(\u001b[0m\u001b[0mcv2\u001b[0m\u001b[0;34m.\u001b[0m\u001b[0mimread\u001b[0m\u001b[0;34m(\u001b[0m\u001b[0mfile\u001b[0m\u001b[0;34m)\u001b[0m\u001b[0;34m,\u001b[0m \u001b[0;36m1\u001b[0m\u001b[0;34m)\u001b[0m\u001b[0;34m\u001b[0m\u001b[0;34m\u001b[0m\u001b[0m\n\u001b[1;32m      8\u001b[0m       \u001b[0mimage\u001b[0m \u001b[0;34m=\u001b[0m \u001b[0mcv2\u001b[0m\u001b[0;34m.\u001b[0m\u001b[0mflip\u001b[0m\u001b[0;34m(\u001b[0m\u001b[0mimage\u001b[0m\u001b[0;34m,\u001b[0m \u001b[0;36m1\u001b[0m\u001b[0;34m)\u001b[0m\u001b[0;34m\u001b[0m\u001b[0;34m\u001b[0m\u001b[0m\n\u001b[0;32m----> 9\u001b[0;31m       \u001b[0mresults\u001b[0m \u001b[0;34m=\u001b[0m \u001b[0mhands\u001b[0m\u001b[0;34m.\u001b[0m\u001b[0mprocess\u001b[0m\u001b[0;34m(\u001b[0m\u001b[0mcv2\u001b[0m\u001b[0;34m.\u001b[0m\u001b[0mcvtColor\u001b[0m\u001b[0;34m(\u001b[0m\u001b[0mimage\u001b[0m\u001b[0;34m,\u001b[0m \u001b[0mcv2\u001b[0m\u001b[0;34m.\u001b[0m\u001b[0mCOLOR_BGR2RGB\u001b[0m\u001b[0;34m)\u001b[0m\u001b[0;34m)\u001b[0m\u001b[0;34m\u001b[0m\u001b[0;34m\u001b[0m\u001b[0m\n\u001b[0m\u001b[1;32m     10\u001b[0m       \u001b[0mres\u001b[0m \u001b[0;34m=\u001b[0m \u001b[0mstr\u001b[0m\u001b[0;34m(\u001b[0m\u001b[0mresults\u001b[0m\u001b[0;34m.\u001b[0m\u001b[0mmulti_handedness\u001b[0m\u001b[0;34m)\u001b[0m\u001b[0;34m\u001b[0m\u001b[0;34m\u001b[0m\u001b[0m\n\u001b[1;32m     11\u001b[0m       \u001b[0;32mif\u001b[0m \u001b[0;34m\"Left\"\u001b[0m \u001b[0;32min\u001b[0m \u001b[0mres\u001b[0m\u001b[0;34m:\u001b[0m\u001b[0;34m\u001b[0m\u001b[0;34m\u001b[0m\u001b[0m\n",
            "\u001b[0;31merror\u001b[0m: OpenCV(4.1.2) /io/opencv/modules/imgproc/src/color.cpp:182: error: (-215:Assertion failed) !_src.empty() in function 'cvtColor'\n"
          ]
        }
      ]
    },
    {
      "cell_type": "code",
      "source": [
        "IMAGE_FILES =['кол0.jpg','кол1.jpg','кол2.jpg','кол3.jpg','кол4.jpg','кол5.jpg','кол6.jpg','кол7.jpg','кол8.jpg','кол9.jpg',]\n",
        "f1()"
      ],
      "metadata": {
        "colab": {
          "base_uri": "https://localhost:8080/"
        },
        "id": "EfdHb0ojGB3p",
        "outputId": "dce9f7d5-90a4-4d05-b01f-8aa19aac07f4"
      },
      "execution_count": 45,
      "outputs": [
        {
          "output_type": "stream",
          "name": "stdout",
          "text": [
            "down r\n",
            "down r\n",
            "down r\n",
            "right l\n",
            "right l\n",
            "up r\n",
            "up r\n",
            "up r\n",
            "up r\n",
            "up r\n"
          ]
        }
      ]
    },
    {
      "cell_type": "code",
      "source": [
        "IMAGE_FILES =['скрин0.jpg','скрин1.jpg','скрин2.jpg','скрин3.jpg','скрин4.jpg','скрин5.jpg','скрин6.jpg','скрин7.jpg','скрин8.jpg','скрин9.jpg',]\n",
        "f1()"
      ],
      "metadata": {
        "colab": {
          "base_uri": "https://localhost:8080/"
        },
        "id": "2c8Y2KAzHFtg",
        "outputId": "f01bbe3b-6b84-4801-e311-19b2fc16b9bd"
      },
      "execution_count": 46,
      "outputs": [
        {
          "output_type": "stream",
          "name": "stdout",
          "text": [
            "prntscrn r\n",
            "prntscrn r\n",
            "prntscrn r\n",
            "prntscrn r\n",
            "prntscrn r\n",
            "prntscrn r\n",
            "prntscrn r\n",
            "prntscrn r\n",
            "prntscrn r\n",
            "prntscrn r\n"
          ]
        }
      ]
    },
    {
      "cell_type": "code",
      "metadata": {
        "id": "M3laxE6QNhnC"
      },
      "source": [
        "df.to_excel(\"Data.xlsx\")"
      ],
      "execution_count": null,
      "outputs": []
    }
  ]
}